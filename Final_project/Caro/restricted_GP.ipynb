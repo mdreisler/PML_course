{
 "cells": [
  {
   "cell_type": "markdown",
   "metadata": {},
   "source": [
    "# B2 Conditioning Gaussian processes"
   ]
  },
  {
   "cell_type": "code",
   "execution_count": 29,
   "metadata": {},
   "outputs": [],
   "source": [
    "import numpy as np\n",
    "import matplotlib.pyplot as plt\n",
    "import torch\n",
    "import scipy"
   ]
  },
  {
   "cell_type": "code",
   "execution_count": null,
   "metadata": {},
   "outputs": [],
   "source": [
    "#running Seb's code\n",
    "\n",
    "%run ../../taskb.ipynb"
   ]
  },
  {
   "cell_type": "code",
   "execution_count": 66,
   "metadata": {},
   "outputs": [
    {
     "name": "stdout",
     "output_type": "stream",
     "text": [
      "tensor([0.0000, 0.0100, 0.0200, 0.0300, 0.0400, 0.0500, 0.0600, 0.0700, 0.0800,\n",
      "        0.0900, 0.1000, 0.1100, 0.1200, 0.1300, 0.1400, 0.1500, 0.1600, 0.1700,\n",
      "        0.1800, 0.1900, 0.2000, 0.2100, 0.2200, 0.2300, 0.2400, 0.2500, 0.2600,\n",
      "        0.2700, 0.2800, 0.2900, 0.3000, 0.3100, 0.3200, 0.3300, 0.3400, 0.3500,\n",
      "        0.3600, 0.3700, 0.3800, 0.3900, 0.4000, 0.4100, 0.4200, 0.4300, 0.4400,\n",
      "        0.4500, 0.4600, 0.4700, 0.4800, 0.4900, 0.5000, 0.5100, 0.5200, 0.5300,\n",
      "        0.5400, 0.5500, 0.5600, 0.5700, 0.5800, 0.5900, 0.6000, 0.6100, 0.6200,\n",
      "        0.6300, 0.6400, 0.6500, 0.6600, 0.6700, 0.6800, 0.6900, 0.7000, 0.7100,\n",
      "        0.7200, 0.7300, 0.7400, 0.7500, 0.7600, 0.7700, 0.7800, 0.7900, 0.8000,\n",
      "        0.8100, 0.8200, 0.8300, 0.8400, 0.8500, 0.8600, 0.8700, 0.8800, 0.8900,\n",
      "        0.9000, 0.9100, 0.9200, 0.9300, 0.9400, 0.9500, 0.9600, 0.9700, 0.9800,\n",
      "        0.9900, 1.0000], dtype=torch.float64)\n",
      "tensor([0.0050, 0.0100, 0.0100, 0.0100, 0.0100, 0.0100, 0.0100, 0.0100, 0.0100,\n",
      "        0.0100, 0.0100, 0.0100, 0.0100, 0.0100, 0.0100, 0.0100, 0.0100, 0.0100,\n",
      "        0.0100, 0.0100, 0.0100, 0.0100, 0.0100, 0.0100, 0.0100, 0.0100, 0.0100,\n",
      "        0.0100, 0.0100, 0.0100, 0.0100, 0.0100, 0.0100, 0.0100, 0.0100, 0.0100,\n",
      "        0.0100, 0.0100, 0.0100, 0.0100, 0.0100, 0.0100, 0.0100, 0.0100, 0.0100,\n",
      "        0.0100, 0.0100, 0.0100, 0.0100, 0.0100, 0.0100, 0.0100, 0.0100, 0.0100,\n",
      "        0.0100, 0.0100, 0.0100, 0.0100, 0.0100, 0.0100, 0.0100, 0.0100, 0.0100,\n",
      "        0.0100, 0.0100, 0.0100, 0.0100, 0.0100, 0.0100, 0.0100, 0.0100, 0.0100,\n",
      "        0.0100, 0.0100, 0.0100, 0.0100, 0.0100, 0.0100, 0.0100, 0.0100, 0.0100,\n",
      "        0.0100, 0.0100, 0.0100, 0.0100, 0.0100, 0.0100, 0.0100, 0.0100, 0.0100,\n",
      "        0.0100, 0.0100, 0.0100, 0.0100, 0.0100, 0.0100, 0.0100, 0.0100, 0.0100,\n",
      "        0.0100, 0.0050], dtype=torch.float64)\n"
     ]
    }
   ],
   "source": [
    "# generate data x\n",
    "\n",
    "l=101\n",
    "x=torch.tensor(np.linspace(0,1,l))\n",
    "print(x)\n",
    "\n",
    "# generate weights w\n",
    "\n",
    "w=torch.ones_like(x)*1/(l-1)\n",
    "w[0]=0.5/(l-1)\n",
    "w[-1]=0.5/(l-1)\n",
    "print(w)\n",
    "\n",
    "#note that the data is row vectors in the code"
   ]
  },
  {
   "cell_type": "code",
   "execution_count": 67,
   "metadata": {},
   "outputs": [],
   "source": [
    "def inner_product(x,w,function):\n",
    "    return torch.sum(function(x)*w)"
   ]
  },
  {
   "cell_type": "code",
   "execution_count": 82,
   "metadata": {},
   "outputs": [
    {
     "name": "stdout",
     "output_type": "stream",
     "text": [
      "tensor(0.5000, dtype=torch.float64)\n"
     ]
    }
   ],
   "source": [
    "def identity(x: float) -> float:\n",
    "    return x\n",
    "\n",
    "#test inner product\n",
    "print(inner_product(x,w,identity))\n"
   ]
  },
  {
   "cell_type": "code",
   "execution_count": 121,
   "metadata": {},
   "outputs": [
    {
     "name": "stdout",
     "output_type": "stream",
     "text": [
      "tensor([[0.9999],\n",
      "        [1.0000],\n",
      "        [0.9999],\n",
      "        [0.9996],\n",
      "        [0.9991],\n",
      "        [0.9984],\n",
      "        [0.9975],\n",
      "        [0.9964],\n",
      "        [0.9951],\n",
      "        [0.9936],\n",
      "        [0.9919],\n",
      "        [0.9900],\n",
      "        [0.9880],\n",
      "        [0.9857],\n",
      "        [0.9832],\n",
      "        [0.9806],\n",
      "        [0.9778],\n",
      "        [0.9747],\n",
      "        [0.9715],\n",
      "        [0.9681],\n",
      "        [0.9645],\n",
      "        [0.9608],\n",
      "        [0.9569],\n",
      "        [0.9528],\n",
      "        [0.9485],\n",
      "        [0.9440],\n",
      "        [0.9394],\n",
      "        [0.9346],\n",
      "        [0.9297],\n",
      "        [0.9246],\n",
      "        [0.9193],\n",
      "        [0.9139],\n",
      "        [0.9084],\n",
      "        [0.9027],\n",
      "        [0.8968],\n",
      "        [0.8908],\n",
      "        [0.8847],\n",
      "        [0.8784],\n",
      "        [0.8721],\n",
      "        [0.8655],\n",
      "        [0.8589],\n",
      "        [0.8521],\n",
      "        [0.8453],\n",
      "        [0.8383],\n",
      "        [0.8312],\n",
      "        [0.8240],\n",
      "        [0.8167],\n",
      "        [0.8093],\n",
      "        [0.8018],\n",
      "        [0.7942],\n",
      "        [0.7865],\n",
      "        [0.7788],\n",
      "        [0.7710],\n",
      "        [0.7631],\n",
      "        [0.7551],\n",
      "        [0.7471],\n",
      "        [0.7390],\n",
      "        [0.7308],\n",
      "        [0.7226],\n",
      "        [0.7143],\n",
      "        [0.7060],\n",
      "        [0.6977],\n",
      "        [0.6893],\n",
      "        [0.6809],\n",
      "        [0.6724],\n",
      "        [0.6639],\n",
      "        [0.6554],\n",
      "        [0.6469],\n",
      "        [0.6383],\n",
      "        [0.6298],\n",
      "        [0.6212],\n",
      "        [0.6126],\n",
      "        [0.6040],\n",
      "        [0.5955],\n",
      "        [0.5869],\n",
      "        [0.5783],\n",
      "        [0.5698],\n",
      "        [0.5612],\n",
      "        [0.5527],\n",
      "        [0.5442],\n",
      "        [0.5357],\n",
      "        [0.5273],\n",
      "        [0.5189],\n",
      "        [0.5105],\n",
      "        [0.5021],\n",
      "        [0.4938],\n",
      "        [0.4855],\n",
      "        [0.4773],\n",
      "        [0.4691],\n",
      "        [0.4610],\n",
      "        [0.4529],\n",
      "        [0.4449],\n",
      "        [0.4369],\n",
      "        [0.4290],\n",
      "        [0.4211],\n",
      "        [0.4133],\n",
      "        [0.4056],\n",
      "        [0.3979],\n",
      "        [0.3903],\n",
      "        [0.3827],\n",
      "        [0.3753]], dtype=torch.float64)\n",
      "tensor([0.9999, 1.0000, 0.9999, 0.9996, 0.9991, 0.9984, 0.9975, 0.9964, 0.9951,\n",
      "        0.9936, 0.9919, 0.9900, 0.9880, 0.9857, 0.9832, 0.9806, 0.9778, 0.9747,\n",
      "        0.9715, 0.9681, 0.9645, 0.9608, 0.9569, 0.9528, 0.9485, 0.9440, 0.9394,\n",
      "        0.9346, 0.9297, 0.9246, 0.9193, 0.9139, 0.9084, 0.9027, 0.8968, 0.8908,\n",
      "        0.8847, 0.8784, 0.8721, 0.8655, 0.8589, 0.8521, 0.8453, 0.8383, 0.8312,\n",
      "        0.8240, 0.8167, 0.8093, 0.8018, 0.7942, 0.7865, 0.7788, 0.7710, 0.7631,\n",
      "        0.7551, 0.7471, 0.7390, 0.7308, 0.7226, 0.7143, 0.7060, 0.6977, 0.6893,\n",
      "        0.6809, 0.6724, 0.6639, 0.6554, 0.6469, 0.6383, 0.6298, 0.6212, 0.6126,\n",
      "        0.6040, 0.5955, 0.5869, 0.5783, 0.5698, 0.5612, 0.5527, 0.5442, 0.5357,\n",
      "        0.5273, 0.5189, 0.5105, 0.5021, 0.4938, 0.4855, 0.4773, 0.4691, 0.4610,\n",
      "        0.4529, 0.4449, 0.4369, 0.4290, 0.4211, 0.4133, 0.4056, 0.3979, 0.3903,\n",
      "        0.3827, 0.3753], dtype=torch.float64)\n"
     ]
    }
   ],
   "source": [
    "# define a kernel function\n",
    "\n",
    "#TODO: change to actual kernel function later\n",
    "\n",
    "def gaussian_kernel(X,Xprime, gamma=1):\n",
    "    x=X.reshape(-1,1)\n",
    "    xprime=Xprime.reshape(-1,1)\n",
    "    dists = scipy.spatial.distance.cdist(x,xprime,metric='sqeuclidean')\n",
    "    dists = torch.tensor(dists)  # Convert numpy array to PyTorch tensor\n",
    "    return torch.exp(-gamma*dists)\n",
    "\n",
    "print(gaussian_kernel(x,x[1]))\n",
    "print(gaussian_kernel(x,x)[1,:])"
   ]
  },
  {
   "cell_type": "markdown",
   "metadata": {},
   "source": [
    "Derive the probability distribution of the random variable $(\\hat{q},f)|X$.\n",
    "\n",
    "The random variable is normally distributed with mean $0$ and variance $Qk(X)Q^T$, where $k(X)=(k(x_i,x_j))_{i,j=1}^n$ and $Q=(w, 1_l)^T\\in \\mathbb{R}^{(l+1)\\times(l+1)}$ a matrix with weights $(w_i)_{i=1}^n$ stacked on top of the identity matrix in $l$ dimensions $1_l$.\n",
    "\n"
   ]
  },
  {
   "cell_type": "markdown",
   "metadata": {},
   "source": [
    "Note: $w\\in \\mathbb{R}^{l\\times1}$ \n",
    "\n",
    "Similarly, the distribution of the random variable $f|X,\\hat{q}$ can be calculated to be the following:\n",
    "\n",
    "The random variable is normally distributed with mean $\\mu_{2|1}=(\\langle w,k(x,x_i)\\rangle)_{i=1}^n\\cdot \\frac{\\hat{q}}{w^Tk(X)w}$ and covariance $\\Sigma_{2|1}=k(X)-(\\langle w,k(x,x_i)\\rangle)_{i=1}^n \\frac{1}{w^Tk(X)w}((\\langle w,k(x,x_i)\\rangle)_{i=1}^n)^T$."
   ]
  },
  {
   "cell_type": "code",
   "execution_count": 127,
   "metadata": {},
   "outputs": [
    {
     "name": "stdout",
     "output_type": "stream",
     "text": [
      "[tensor(-2.0520e-15, dtype=torch.float64), tensor(-1.2771e-15, dtype=torch.float64), tensor(-1.2179e-15, dtype=torch.float64), tensor(-1.1038e-15, dtype=torch.float64), tensor(-1.0194e-15, dtype=torch.float64), tensor(-9.6093e-16, dtype=torch.float64), tensor(-9.4741e-16, dtype=torch.float64), tensor(-8.6751e-16, dtype=torch.float64), tensor(-8.2928e-16, dtype=torch.float64), tensor(-8.0853e-16, dtype=torch.float64), tensor(-8.0167e-16, dtype=torch.float64), tensor(-6.9700e-16, dtype=torch.float64), tensor(-6.6723e-16, dtype=torch.float64), tensor(-6.4902e-16, dtype=torch.float64), tensor(-6.2502e-16, dtype=torch.float64), tensor(-5.8566e-16, dtype=torch.float64), tensor(-5.8566e-16, dtype=torch.float64), tensor(-5.4814e-16, dtype=torch.float64), tensor(-4.9249e-16, dtype=torch.float64), tensor(-4.9249e-16, dtype=torch.float64), tensor(-4.3814e-16, dtype=torch.float64), tensor(-4.1322e-16, dtype=torch.float64), tensor(-4.1322e-16, dtype=torch.float64), tensor(-3.8640e-16, dtype=torch.float64), tensor(-3.7451e-16, dtype=torch.float64), tensor(-3.4742e-16, dtype=torch.float64), tensor(-3.2278e-16, dtype=torch.float64), tensor(-2.9271e-16, dtype=torch.float64), tensor(-2.7004e-16, dtype=torch.float64), tensor(-2.6279e-16, dtype=torch.float64), tensor(-2.6279e-16, dtype=torch.float64), tensor(-2.2704e-16, dtype=torch.float64), tensor(-2.1650e-16, dtype=torch.float64), tensor(-2.0493e-16, dtype=torch.float64), tensor(-1.9832e-16, dtype=torch.float64), tensor(-1.6635e-16, dtype=torch.float64), tensor(-1.5048e-16, dtype=torch.float64), tensor(-1.3439e-16, dtype=torch.float64), tensor(-1.0667e-16, dtype=torch.float64), tensor(-9.4118e-17, dtype=torch.float64), tensor(-6.3468e-17, dtype=torch.float64), tensor(-5.2525e-17, dtype=torch.float64), tensor(-5.2525e-17, dtype=torch.float64), tensor(-3.0842e-17, dtype=torch.float64), tensor(-2.3371e-17, dtype=torch.float64), tensor(-2.9614e-18, dtype=torch.float64), tensor(-2.9614e-18, dtype=torch.float64), tensor(3.7356e-17, dtype=torch.float64), tensor(5.0815e-17, dtype=torch.float64), tensor(9.2562e-17, dtype=torch.float64), tensor(9.2562e-17, dtype=torch.float64), tensor(1.0398e-16, dtype=torch.float64), tensor(1.1944e-16, dtype=torch.float64), tensor(1.4895e-16, dtype=torch.float64), tensor(1.4895e-16, dtype=torch.float64), tensor(1.7780e-16, dtype=torch.float64), tensor(1.7780e-16, dtype=torch.float64), tensor(2.0787e-16, dtype=torch.float64), tensor(2.2448e-16, dtype=torch.float64), tensor(2.3664e-16, dtype=torch.float64), tensor(2.4441e-16, dtype=torch.float64), tensor(2.4441e-16, dtype=torch.float64), tensor(2.6205e-16, dtype=torch.float64), tensor(2.8344e-16, dtype=torch.float64), tensor(3.0200e-16, dtype=torch.float64), tensor(3.3223e-16, dtype=torch.float64), tensor(3.4972e-16, dtype=torch.float64), tensor(3.7519e-16, dtype=torch.float64), tensor(4.1333e-16, dtype=torch.float64), tensor(4.2945e-16, dtype=torch.float64), tensor(4.8936e-16, dtype=torch.float64), tensor(4.8936e-16, dtype=torch.float64), tensor(5.2109e-16, dtype=torch.float64), tensor(5.3883e-16, dtype=torch.float64), tensor(5.9438e-16, dtype=torch.float64), tensor(5.9438e-16, dtype=torch.float64), tensor(6.0146e-16, dtype=torch.float64), tensor(6.5722e-16, dtype=torch.float64), tensor(7.1443e-16, dtype=torch.float64), tensor(7.4541e-16, dtype=torch.float64), tensor(7.8341e-16, dtype=torch.float64), tensor(8.2072e-16, dtype=torch.float64), tensor(8.2072e-16, dtype=torch.float64), tensor(8.3273e-16, dtype=torch.float64), tensor(9.8257e-16, dtype=torch.float64), tensor(9.8257e-16, dtype=torch.float64), tensor(1.0954e-15, dtype=torch.float64), tensor(1.1334e-15, dtype=torch.float64), tensor(1.1334e-15, dtype=torch.float64), tensor(1.2080e-15, dtype=torch.float64), tensor(1.5556e-14, dtype=torch.float64), tensor(3.6462e-14, dtype=torch.float64), tensor(2.8641e-12, dtype=torch.float64), tensor(2.0319e-10, dtype=torch.float64), tensor(1.2759e-08, dtype=torch.float64), tensor(7.0036e-07, dtype=torch.float64), tensor(3.2786e-05, dtype=torch.float64), tensor(0.0013, dtype=torch.float64), tensor(0.0393, dtype=torch.float64), tensor(0.8962, dtype=torch.float64), tensor(12.9367, dtype=torch.float64)]\n"
     ]
    }
   ],
   "source": [
    "def sample_given_q(x,w,q,kernel): #give kernel as a function in one argument\n",
    "    \n",
    "    sigma_12=torch.zeros_like(w)\n",
    "\n",
    "    for i in range(len(x)):\n",
    "        #returns sum_i w_i * kernel(x_i,x) a vector of len l\n",
    "        sigma_12[i]= w @ kernel(x,x[i]) \n",
    "\n",
    "    \n",
    "    sigma_11= w @ kernel(x,x) @ w.T #should be a scalar\n",
    "\n",
    "    sigma_cond= kernel(x,x) - (torch.outer(sigma_12, sigma_12)*(1/sigma_11)) #outer product sigma_12*sigma_12.T\n",
    "    mu_cond= sigma_12 *(q/sigma_11) #should be a vector of length l\n",
    "    return mu_cond,sigma_cond\n",
    "\n",
    "mu, cov= sample_given_q(x,w,5,gaussian_kernel)\n",
    "\n",
    "def is_psd(mat, tol=1e-8):\n",
    "    return bool((mat == mat.T).all() and (torch.linalg.eigvals(mat).real >= -tol).all())\n",
    "\n",
    "#Test:\n",
    "is_psd(cov)\n",
    "\n",
    "print(sorted(torch.linalg.eigvals(cov).real))\n"
   ]
  },
  {
   "cell_type": "code",
   "execution_count": 131,
   "metadata": {},
   "outputs": [
    {
     "ename": "_LinAlgError",
     "evalue": "linalg.cholesky: The factorization could not be completed because the input is not positive-definite (the leading minor of order 6 is not positive-definite).",
     "output_type": "error",
     "traceback": [
      "\u001b[0;31m---------------------------------------------------------------------------\u001b[0m",
      "\u001b[0;31m_LinAlgError\u001b[0m                              Traceback (most recent call last)",
      "Cell \u001b[0;32mIn[131], line 4\u001b[0m\n\u001b[1;32m      2\u001b[0m eigvals, eigvecs \u001b[38;5;241m=\u001b[39m torch\u001b[38;5;241m.\u001b[39mlinalg\u001b[38;5;241m.\u001b[39meigh(cov)\n\u001b[1;32m      3\u001b[0m L \u001b[38;5;241m=\u001b[39m eigvecs \u001b[38;5;241m@\u001b[39m torch\u001b[38;5;241m.\u001b[39mdiag(torch\u001b[38;5;241m.\u001b[39msqrt(eigvals\u001b[38;5;241m.\u001b[39mclamp(\u001b[38;5;28mmin\u001b[39m\u001b[38;5;241m=\u001b[39m\u001b[38;5;241m1e-8\u001b[39m)))\n\u001b[0;32m----> 4\u001b[0m L \u001b[38;5;241m=\u001b[39m \u001b[43mtorch\u001b[49m\u001b[38;5;241;43m.\u001b[39;49m\u001b[43mlinalg\u001b[49m\u001b[38;5;241;43m.\u001b[39;49m\u001b[43mcholesky\u001b[49m\u001b[43m(\u001b[49m\u001b[43mcov\u001b[49m\u001b[43m)\u001b[49m\n",
      "\u001b[0;31m_LinAlgError\u001b[0m: linalg.cholesky: The factorization could not be completed because the input is not positive-definite (the leading minor of order 6 is not positive-definite)."
     ]
    }
   ],
   "source": [
    "#L = torch.linalg.cholesky(cov)\n",
    "eigvals, eigvecs = torch.linalg.eigh(cov)\n",
    "L = eigvecs @ torch.diag(torch.sqrt(eigvals.clamp(min=1e-8)))\n",
    "L = torch.linalg.cholesky(cov)"
   ]
  },
  {
   "cell_type": "code",
   "execution_count": 123,
   "metadata": {},
   "outputs": [
    {
     "name": "stdout",
     "output_type": "stream",
     "text": [
      "tensor([ 8.6687,  8.7417,  8.8137,  8.8849,  8.9551,  9.0243,  9.0925,  9.1596,\n",
      "         9.2257,  9.2907,  9.3546,  9.4172,  9.4788,  9.5390,  9.5981,  9.6559,\n",
      "         9.7124,  9.7675,  9.8213,  9.8737,  9.9248,  9.9744, 10.0225, 10.0692,\n",
      "        10.1144, 10.1580, 10.2002, 10.2407, 10.2797, 10.3171, 10.3529, 10.3871,\n",
      "        10.4196, 10.4504, 10.4796, 10.5071, 10.5328, 10.5569, 10.5792, 10.5997,\n",
      "        10.6185, 10.6356, 10.6509, 10.6644, 10.6761, 10.6860, 10.6941, 10.7004,\n",
      "        10.7049, 10.7077, 10.7086, 10.7077, 10.7049, 10.7004, 10.6941, 10.6860,\n",
      "        10.6761, 10.6644, 10.6509, 10.6356, 10.6185, 10.5997, 10.5792, 10.5569,\n",
      "        10.5328, 10.5071, 10.4796, 10.4504, 10.4196, 10.3871, 10.3529, 10.3171,\n",
      "        10.2797, 10.2407, 10.2002, 10.1580, 10.1144, 10.0692, 10.0225,  9.9744,\n",
      "         9.9248,  9.8737,  9.8213,  9.7675,  9.7124,  9.6559,  9.5981,  9.5390,\n",
      "         9.4788,  9.4172,  9.3546,  9.2907,  9.2257,  9.1596,  9.0925,  9.0243,\n",
      "         8.9551,  8.8849,  8.8137,  8.7417,  8.6687], dtype=torch.float64) tensor([[ 0.3526,  0.3471,  0.3414,  ..., -0.2755, -0.2776, -0.2795],\n",
      "        [ 0.3471,  0.3417,  0.3361,  ..., -0.2735, -0.2756, -0.2776],\n",
      "        [ 0.3414,  0.3361,  0.3308,  ..., -0.2714, -0.2735, -0.2755],\n",
      "        ...,\n",
      "        [-0.2755, -0.2735, -0.2714,  ...,  0.3308,  0.3361,  0.3414],\n",
      "        [-0.2776, -0.2756, -0.2735,  ...,  0.3361,  0.3417,  0.3471],\n",
      "        [-0.2795, -0.2776, -0.2755,  ...,  0.3414,  0.3471,  0.3526]],\n",
      "       dtype=torch.float64)\n"
     ]
    },
    {
     "ename": "ValueError",
     "evalue": "Expected parameter covariance_matrix (Tensor of shape (101, 101)) of distribution MultivariateNormal(loc: torch.Size([101]), covariance_matrix: torch.Size([101, 101])) to satisfy the constraint PositiveDefinite(), but found invalid values:\ntensor([[ 0.3526,  0.3471,  0.3414,  ..., -0.2755, -0.2776, -0.2795],\n        [ 0.3471,  0.3417,  0.3361,  ..., -0.2735, -0.2756, -0.2776],\n        [ 0.3414,  0.3361,  0.3308,  ..., -0.2714, -0.2735, -0.2755],\n        ...,\n        [-0.2755, -0.2735, -0.2714,  ...,  0.3308,  0.3361,  0.3414],\n        [-0.2776, -0.2756, -0.2735,  ...,  0.3361,  0.3417,  0.3471],\n        [-0.2795, -0.2776, -0.2755,  ...,  0.3414,  0.3471,  0.3526]],\n       dtype=torch.float64)",
     "output_type": "error",
     "traceback": [
      "\u001b[0;31m---------------------------------------------------------------------------\u001b[0m",
      "\u001b[0;31mValueError\u001b[0m                                Traceback (most recent call last)",
      "Cell \u001b[0;32mIn[123], line 3\u001b[0m\n\u001b[1;32m      1\u001b[0m mu,sigma\u001b[38;5;241m=\u001b[39msample_given_q(x,w,\u001b[38;5;241m10\u001b[39m,gaussian_kernel)\n\u001b[1;32m      2\u001b[0m \u001b[38;5;28mprint\u001b[39m(mu, sigma)\n\u001b[0;32m----> 3\u001b[0m dist \u001b[38;5;241m=\u001b[39m \u001b[43mtorch\u001b[49m\u001b[38;5;241;43m.\u001b[39;49m\u001b[43mdistributions\u001b[49m\u001b[38;5;241;43m.\u001b[39;49m\u001b[43mMultivariateNormal\u001b[49m\u001b[43m(\u001b[49m\u001b[43mmu\u001b[49m\u001b[43m,\u001b[49m\u001b[43msigma\u001b[49m\u001b[43m)\u001b[49m\n",
      "File \u001b[0;32m/opt/anaconda3/envs/myenv/lib/python3.9/site-packages/torch/distributions/multivariate_normal.py:180\u001b[0m, in \u001b[0;36mMultivariateNormal.__init__\u001b[0;34m(self, loc, covariance_matrix, precision_matrix, scale_tril, validate_args)\u001b[0m\n\u001b[1;32m    177\u001b[0m \u001b[38;5;28mself\u001b[39m\u001b[38;5;241m.\u001b[39mloc \u001b[38;5;241m=\u001b[39m loc\u001b[38;5;241m.\u001b[39mexpand(batch_shape \u001b[38;5;241m+\u001b[39m (\u001b[38;5;241m-\u001b[39m\u001b[38;5;241m1\u001b[39m,))\n\u001b[1;32m    179\u001b[0m event_shape \u001b[38;5;241m=\u001b[39m \u001b[38;5;28mself\u001b[39m\u001b[38;5;241m.\u001b[39mloc\u001b[38;5;241m.\u001b[39mshape[\u001b[38;5;241m-\u001b[39m\u001b[38;5;241m1\u001b[39m:]\n\u001b[0;32m--> 180\u001b[0m \u001b[38;5;28;43msuper\u001b[39;49m\u001b[43m(\u001b[49m\u001b[43m)\u001b[49m\u001b[38;5;241;43m.\u001b[39;49m\u001b[38;5;21;43m__init__\u001b[39;49m\u001b[43m(\u001b[49m\u001b[43mbatch_shape\u001b[49m\u001b[43m,\u001b[49m\u001b[43m \u001b[49m\u001b[43mevent_shape\u001b[49m\u001b[43m,\u001b[49m\u001b[43m \u001b[49m\u001b[43mvalidate_args\u001b[49m\u001b[38;5;241;43m=\u001b[39;49m\u001b[43mvalidate_args\u001b[49m\u001b[43m)\u001b[49m\n\u001b[1;32m    182\u001b[0m \u001b[38;5;28;01mif\u001b[39;00m scale_tril \u001b[38;5;129;01mis\u001b[39;00m \u001b[38;5;129;01mnot\u001b[39;00m \u001b[38;5;28;01mNone\u001b[39;00m:\n\u001b[1;32m    183\u001b[0m     \u001b[38;5;28mself\u001b[39m\u001b[38;5;241m.\u001b[39m_unbroadcasted_scale_tril \u001b[38;5;241m=\u001b[39m scale_tril\n",
      "File \u001b[0;32m/opt/anaconda3/envs/myenv/lib/python3.9/site-packages/torch/distributions/distribution.py:71\u001b[0m, in \u001b[0;36mDistribution.__init__\u001b[0;34m(self, batch_shape, event_shape, validate_args)\u001b[0m\n\u001b[1;32m     69\u001b[0m         valid \u001b[38;5;241m=\u001b[39m constraint\u001b[38;5;241m.\u001b[39mcheck(value)\n\u001b[1;32m     70\u001b[0m         \u001b[38;5;28;01mif\u001b[39;00m \u001b[38;5;129;01mnot\u001b[39;00m valid\u001b[38;5;241m.\u001b[39mall():\n\u001b[0;32m---> 71\u001b[0m             \u001b[38;5;28;01mraise\u001b[39;00m \u001b[38;5;167;01mValueError\u001b[39;00m(\n\u001b[1;32m     72\u001b[0m                 \u001b[38;5;124mf\u001b[39m\u001b[38;5;124m\"\u001b[39m\u001b[38;5;124mExpected parameter \u001b[39m\u001b[38;5;132;01m{\u001b[39;00mparam\u001b[38;5;132;01m}\u001b[39;00m\u001b[38;5;124m \u001b[39m\u001b[38;5;124m\"\u001b[39m\n\u001b[1;32m     73\u001b[0m                 \u001b[38;5;124mf\u001b[39m\u001b[38;5;124m\"\u001b[39m\u001b[38;5;124m(\u001b[39m\u001b[38;5;132;01m{\u001b[39;00m\u001b[38;5;28mtype\u001b[39m(value)\u001b[38;5;241m.\u001b[39m\u001b[38;5;18m__name__\u001b[39m\u001b[38;5;132;01m}\u001b[39;00m\u001b[38;5;124m of shape \u001b[39m\u001b[38;5;132;01m{\u001b[39;00m\u001b[38;5;28mtuple\u001b[39m(value\u001b[38;5;241m.\u001b[39mshape)\u001b[38;5;132;01m}\u001b[39;00m\u001b[38;5;124m) \u001b[39m\u001b[38;5;124m\"\u001b[39m\n\u001b[1;32m     74\u001b[0m                 \u001b[38;5;124mf\u001b[39m\u001b[38;5;124m\"\u001b[39m\u001b[38;5;124mof distribution \u001b[39m\u001b[38;5;132;01m{\u001b[39;00m\u001b[38;5;28mrepr\u001b[39m(\u001b[38;5;28mself\u001b[39m)\u001b[38;5;132;01m}\u001b[39;00m\u001b[38;5;124m \u001b[39m\u001b[38;5;124m\"\u001b[39m\n\u001b[1;32m     75\u001b[0m                 \u001b[38;5;124mf\u001b[39m\u001b[38;5;124m\"\u001b[39m\u001b[38;5;124mto satisfy the constraint \u001b[39m\u001b[38;5;132;01m{\u001b[39;00m\u001b[38;5;28mrepr\u001b[39m(constraint)\u001b[38;5;132;01m}\u001b[39;00m\u001b[38;5;124m, \u001b[39m\u001b[38;5;124m\"\u001b[39m\n\u001b[1;32m     76\u001b[0m                 \u001b[38;5;124mf\u001b[39m\u001b[38;5;124m\"\u001b[39m\u001b[38;5;124mbut found invalid values:\u001b[39m\u001b[38;5;130;01m\\n\u001b[39;00m\u001b[38;5;132;01m{\u001b[39;00mvalue\u001b[38;5;132;01m}\u001b[39;00m\u001b[38;5;124m\"\u001b[39m\n\u001b[1;32m     77\u001b[0m             )\n\u001b[1;32m     78\u001b[0m \u001b[38;5;28msuper\u001b[39m()\u001b[38;5;241m.\u001b[39m\u001b[38;5;21m__init__\u001b[39m()\n",
      "\u001b[0;31mValueError\u001b[0m: Expected parameter covariance_matrix (Tensor of shape (101, 101)) of distribution MultivariateNormal(loc: torch.Size([101]), covariance_matrix: torch.Size([101, 101])) to satisfy the constraint PositiveDefinite(), but found invalid values:\ntensor([[ 0.3526,  0.3471,  0.3414,  ..., -0.2755, -0.2776, -0.2795],\n        [ 0.3471,  0.3417,  0.3361,  ..., -0.2735, -0.2756, -0.2776],\n        [ 0.3414,  0.3361,  0.3308,  ..., -0.2714, -0.2735, -0.2755],\n        ...,\n        [-0.2755, -0.2735, -0.2714,  ...,  0.3308,  0.3361,  0.3414],\n        [-0.2776, -0.2756, -0.2735,  ...,  0.3361,  0.3417,  0.3471],\n        [-0.2795, -0.2776, -0.2755,  ...,  0.3414,  0.3471,  0.3526]],\n       dtype=torch.float64)"
     ]
    }
   ],
   "source": [
    "mu,sigma=sample_given_q(x,w,10,gaussian_kernel)\n",
    "print(mu, sigma)\n",
    "dist = torch.distributions.MultivariateNormal(mu,sigma)"
   ]
  },
  {
   "cell_type": "code",
   "execution_count": null,
   "metadata": {},
   "outputs": [],
   "source": []
  }
 ],
 "metadata": {
  "kernelspec": {
   "display_name": "myenv",
   "language": "python",
   "name": "python3"
  },
  "language_info": {
   "codemirror_mode": {
    "name": "ipython",
    "version": 3
   },
   "file_extension": ".py",
   "mimetype": "text/x-python",
   "name": "python",
   "nbconvert_exporter": "python",
   "pygments_lexer": "ipython3",
   "version": "3.9.20"
  }
 },
 "nbformat": 4,
 "nbformat_minor": 2
}
